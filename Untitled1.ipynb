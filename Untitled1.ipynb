{
 "cells": [
  {
   "cell_type": "code",
   "execution_count": 1,
   "id": "05edf7bb",
   "metadata": {},
   "outputs": [
    {
     "name": "stdout",
     "output_type": "stream",
     "text": [
      "[1, 2, -5, 0.3, 6, -2, 4]\n",
      "['one', 'two', 'three']\n",
      "[True, True, True, False, True]\n"
     ]
    }
   ],
   "source": [
    "a = [1, 2, -5, 0.3, 6, -2, 4]  # numeric vector\n",
    "b = [\"one\", \"two\", \"three\"]     # character vector\n",
    "c = [True, True, True, False, True]  # logical vector\n",
    "print(a)\n",
    "print(b)\n",
    "print(c)"
   ]
  },
  {
   "cell_type": "code",
   "execution_count": 2,
   "id": "ab21adae",
   "metadata": {},
   "outputs": [
    {
     "name": "stdout",
     "output_type": "stream",
     "text": [
      "[[  3  15]\n",
      " [-27  38]]\n"
     ]
    }
   ],
   "source": [
    "#MATRIKS\n",
    "import numpy as np\n",
    "cells = [3, 15, -27, 38]\n",
    "r_zahwa = [\"R1\", \"R2\"]\n",
    "c_zahwa = [\"C1\", \"C2\"]\n",
    "zahwa_matrix = np.matrix(cells).reshape(2, 2)\n",
    "print(zahwa_matrix)"
   ]
  },
  {
   "cell_type": "code",
   "execution_count": 3,
   "id": "18ba98ec",
   "metadata": {},
   "outputs": [
    {
     "name": "stdout",
     "output_type": "stream",
     "text": [
      "   ID  Color  Passed\n",
      "0   1    red    True\n",
      "1   2  white    True\n",
      "2   3    red    True\n",
      "3   4    NaN   False\n"
     ]
    }
   ],
   "source": [
    "import pandas as pd\n",
    "import numpy as np\n",
    "\n",
    "zahwa1 = [1, 2, 3, 4]\n",
    "zahwa2 = [\"red\", \"white\", \"red\", np.nan]  # Menggunakan np.nan untuk merepresentasikan NA\n",
    "zahwa3 = [True, True, True, False]\n",
    "\n",
    "dataku = pd.DataFrame({'ID': zahwa1, 'Color': zahwa2, 'Passed': zahwa3})\n",
    "print(dataku)"
   ]
  },
  {
   "cell_type": "code",
   "execution_count": 4,
   "id": "dcea398e",
   "metadata": {},
   "outputs": [
    {
     "name": "stdout",
     "output_type": "stream",
     "text": [
      "  id   x   y\n",
      "0  a   1  11\n",
      "1  b   2  12\n",
      "2  c   3  13\n",
      "3  d   4  14\n",
      "4  e   5  15\n",
      "5  f   6  16\n",
      "6  g   7  17\n",
      "7  h   8  18\n",
      "8  i   9  19\n",
      "9  j  10  20\n"
     ]
    }
   ],
   "source": [
    "import pandas as pd\n",
    "\n",
    "data_nama = pd.DataFrame({'id': list('abcdefghij'), 'x': list(range(1, 11)), 'y': list(range(11, 21))})\n",
    "print(data_nama)"
   ]
  },
  {
   "cell_type": "code",
   "execution_count": null,
   "id": "c82456d6",
   "metadata": {},
   "outputs": [],
   "source": []
  }
 ],
 "metadata": {
  "kernelspec": {
   "display_name": "Python 3 (ipykernel)",
   "language": "python",
   "name": "python3"
  },
  "language_info": {
   "codemirror_mode": {
    "name": "ipython",
    "version": 3
   },
   "file_extension": ".py",
   "mimetype": "text/x-python",
   "name": "python",
   "nbconvert_exporter": "python",
   "pygments_lexer": "ipython3",
   "version": "3.11.4"
  }
 },
 "nbformat": 4,
 "nbformat_minor": 5
}
